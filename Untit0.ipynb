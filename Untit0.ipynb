{
  "nbformat": 4,
  "nbformat_minor": 0,
  "metadata": {
    "colab": {
      "name": "Untitled0.ipynb",
      "provenance": [],
      "authorship_tag": "ABX9TyMXy8Ik9nnmMv8/vE5NxLJr",
      "include_colab_link": true
    },
    "kernelspec": {
      "name": "python3",
      "display_name": "Python 3"
    }
  },
  "cells": [
    {
      "cell_type": "markdown",
      "metadata": {
        "id": "view-in-github",
        "colab_type": "text"
      },
      "source": [
        "<a href=\"https://colab.research.google.com/github/m7moud27/mahmoud-reda/blob/master/Untit0.ipynb\" target=\"_parent\"><img src=\"https://colab.research.google.com/assets/colab-badge.svg\" alt=\"Open In Colab\"/></a>"
      ]
    },
    {
      "cell_type": "code",
      "metadata": {
        "id": "QbR08z6XB0nz",
        "colab_type": "code",
        "colab": {}
      },
      "source": [
        "import tensorflow as tf\n",
        "from tensorflow.examples.tutorials.mnist import input_data"
      ],
      "execution_count": 0,
      "outputs": []
    },
    {
      "cell_type": "code",
      "metadata": {
        "id": "6BG2luBtEmG2",
        "colab_type": "code",
        "colab": {
          "base_uri": "https://localhost:8080/",
          "height": 530
        },
        "outputId": "a9c62ea9-eb26-4c9e-e4c7-3c173bc287f3"
      },
      "source": [
        "mnist = input_data.read_data_sets('MNIST.data', one_hot = True)\n",
        "\n",
        "X = tf.placeholder('float',[None, 784])\n",
        "y = tf.placeholder('float')\n",
        "\n",
        "n_class = 10\n",
        "batch_size = 100"
      ],
      "execution_count": 7,
      "outputs": [
        {
          "output_type": "stream",
          "text": [
            "WARNING:tensorflow:From <ipython-input-7-e7352d64496d>:1: read_data_sets (from tensorflow.contrib.learn.python.learn.datasets.mnist) is deprecated and will be removed in a future version.\n",
            "Instructions for updating:\n",
            "Please use alternatives such as official/mnist/dataset.py from tensorflow/models.\n",
            "WARNING:tensorflow:From /usr/local/lib/python3.6/dist-packages/tensorflow_core/contrib/learn/python/learn/datasets/mnist.py:260: maybe_download (from tensorflow.contrib.learn.python.learn.datasets.base) is deprecated and will be removed in a future version.\n",
            "Instructions for updating:\n",
            "Please write your own downloading logic.\n",
            "WARNING:tensorflow:From /usr/local/lib/python3.6/dist-packages/tensorflow_core/contrib/learn/python/learn/datasets/base.py:252: _internal_retry.<locals>.wrap.<locals>.wrapped_fn (from tensorflow.contrib.learn.python.learn.datasets.base) is deprecated and will be removed in a future version.\n",
            "Instructions for updating:\n",
            "Please use urllib or similar directly.\n",
            "Successfully downloaded train-images-idx3-ubyte.gz 9912422 bytes.\n",
            "WARNING:tensorflow:From /usr/local/lib/python3.6/dist-packages/tensorflow_core/contrib/learn/python/learn/datasets/mnist.py:262: extract_images (from tensorflow.contrib.learn.python.learn.datasets.mnist) is deprecated and will be removed in a future version.\n",
            "Instructions for updating:\n",
            "Please use tf.data to implement this functionality.\n",
            "Extracting MNIST.data/train-images-idx3-ubyte.gz\n",
            "Successfully downloaded train-labels-idx1-ubyte.gz 28881 bytes.\n",
            "WARNING:tensorflow:From /usr/local/lib/python3.6/dist-packages/tensorflow_core/contrib/learn/python/learn/datasets/mnist.py:267: extract_labels (from tensorflow.contrib.learn.python.learn.datasets.mnist) is deprecated and will be removed in a future version.\n",
            "Instructions for updating:\n",
            "Please use tf.data to implement this functionality.\n",
            "Extracting MNIST.data/train-labels-idx1-ubyte.gz\n",
            "WARNING:tensorflow:From /usr/local/lib/python3.6/dist-packages/tensorflow_core/contrib/learn/python/learn/datasets/mnist.py:110: dense_to_one_hot (from tensorflow.contrib.learn.python.learn.datasets.mnist) is deprecated and will be removed in a future version.\n",
            "Instructions for updating:\n",
            "Please use tf.one_hot on tensors.\n",
            "Successfully downloaded t10k-images-idx3-ubyte.gz 1648877 bytes.\n",
            "Extracting MNIST.data/t10k-images-idx3-ubyte.gz\n",
            "Successfully downloaded t10k-labels-idx1-ubyte.gz 4542 bytes.\n",
            "Extracting MNIST.data/t10k-labels-idx1-ubyte.gz\n",
            "WARNING:tensorflow:From /usr/local/lib/python3.6/dist-packages/tensorflow_core/contrib/learn/python/learn/datasets/mnist.py:290: DataSet.__init__ (from tensorflow.contrib.learn.python.learn.datasets.mnist) is deprecated and will be removed in a future version.\n",
            "Instructions for updating:\n",
            "Please use alternatives such as official/mnist/dataset.py from tensorflow/models.\n"
          ],
          "name": "stdout"
        }
      ]
    },
    {
      "cell_type": "code",
      "metadata": {
        "id": "US7utn1rFPXu",
        "colab_type": "code",
        "colab": {}
      },
      "source": [
        "def conv2d(X, w ):\n",
        "    return tf.nn.conv2d(X, w, strides = [1, 1, 1, 1], padding = 'SAME')"
      ],
      "execution_count": 0,
      "outputs": []
    },
    {
      "cell_type": "code",
      "metadata": {
        "id": "LlDj3cz-FchN",
        "colab_type": "code",
        "colab": {}
      },
      "source": [
        "def maxpool2d(X):\n",
        "    return tf.nn.max_pool(X, kstrides = [1, 2, 2, 1], strides = [1, 2, 2, 1],\n",
        "                          padding = 'SAME')"
      ],
      "execution_count": 0,
      "outputs": []
    },
    {
      "cell_type": "code",
      "metadata": {
        "id": "L5dhUQUhFjQ8",
        "colab_type": "code",
        "colab": {}
      },
      "source": [
        "def convolutional_neural_network(data):\n",
        "\n",
        "    weights = {'wconv1': tf.Variable(tf.random.normal([5, 5, 1, 32])),\n",
        "               'wconv2': tf.Variable(tf.random.normal([5, 5, 32, 64])),\n",
        "               'wconv3': tf.Variable(tf.random.normal([5, 5, 64, 128])),\n",
        "               'wfc': tf.Variable(tf.random.normal([7*7*128, 1024])),\n",
        "               'woutput': tf.Variable(tf.random.noral([1024, n_class]))}\n",
        "\n",
        "    baises = {'bconv1': tf.Variable(tf.random.normal([32])),\n",
        "               'bconv2': tf.Variable(tf.random.normal([64])),\n",
        "               'bconv3': tf.Variable(tf.random.normal([128])),\n",
        "               'bfc': tf.Variable(tf.random.normal([1024])),\n",
        "               'boutput': tf.Variable(tf.random.noral([n_class]))}\n",
        "\n",
        "    X = tf.reshape(X, shape[-1, 28, 28, 1])\n",
        "\n",
        "    conv1 = conv2d(X, weights['wconv1'])\n",
        "    conv1 = maxpool2d(conv1)\n",
        "\n",
        "    conv2 = conv2d(conv1, weights['wconv2'])\n",
        "    conv2 = maxpool2d(conv2)\n",
        "\n",
        "    conv3 = conv2d(conv3, weights['wconv3'])\n",
        "    conv3 = maxpool2d(conv3)\n",
        "\n",
        "    fc = tf.reshape(conv3, [-1, 7*7*128])\n",
        "    fc = tf.nn.relu(tf.matul(fc, weights['wfc']+baises['bfc']))\n",
        "\n",
        "    output = tf.matul(fc, weights['woutput']+baises['boutput'])\n",
        "\n",
        "    return output\n"
      ],
      "execution_count": 0,
      "outputs": []
    },
    {
      "cell_type": "code",
      "metadata": {
        "id": "W62jQWfAFpYg",
        "colab_type": "code",
        "colab": {
          "base_uri": "https://localhost:8080/",
          "height": 129
        },
        "outputId": "8ae8442a-7ec7-43e2-935c-a78736620b09"
      },
      "source": [
        "\n",
        "def train_CNN(X):\n",
        "\n",
        "    prediction = convolutional_neural_network(X)\n",
        "    cost = tf.reduce_mean(tf.nn.softmax_cross_entorpy_with_logits(prediction, y))\n",
        "    optimizer = tf.train.AdamOPptimizer().minimize(cost)\n",
        "\n",
        "    n_epochs = 10\n",
        "\n",
        "    with tf.session() as sess:\n",
        "        sess.run(tf.initialize_all_Variables())\n",
        "\n",
        "        for epoch in range(n_epochs):\n",
        "            epoch_loss = 0\n",
        "            for _ in range(int(mnist.train.examples/batch_size)):\n",
        "            epoch_X, epoch_y = mnist.train.next_batch(batch_size)\n",
        "            _, c = sess.run([optimizer, cost], feed_dict = {X:epoch_X,\n",
        "                                                            y:epoch_y})\n",
        "            epoch_loss+= c\n",
        "            print('epoch',epoch, 'completed out ', n_epochs, 'loss:', epoch_loss)\n",
        "        correct =  tf.equal(tf.argmax(prediction, 1), tf.argmax(y, 1))\n",
        "        accuracy = tf.reduce_mean(tf.cast(correct,'float'))\n",
        "        print('Accuracy = 'accuracy.evla({X:minst.test.images, y: minst.test.images}))\n",
        "train_CNN(X)\n"
      ],
      "execution_count": 12,
      "outputs": [
        {
          "output_type": "error",
          "ename": "IndentationError",
          "evalue": "ignored",
          "traceback": [
            "\u001b[0;36m  File \u001b[0;32m\"<ipython-input-12-dde282ea28c5>\"\u001b[0;36m, line \u001b[0;32m16\u001b[0m\n\u001b[0;31m    epoch_X, epoch_y = mnist.train.next_batch(batch_size)\u001b[0m\n\u001b[0m          ^\u001b[0m\n\u001b[0;31mIndentationError\u001b[0m\u001b[0;31m:\u001b[0m expected an indented block\n"
          ]
        }
      ]
    }
  ]
}