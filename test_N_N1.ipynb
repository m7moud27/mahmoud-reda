{
  "nbformat": 4,
  "nbformat_minor": 0,
  "metadata": {
    "colab": {
      "name": "test N_N1.ipynb",
      "provenance": [],
      "collapsed_sections": [],
      "include_colab_link": true
    },
    "kernelspec": {
      "name": "python3",
      "display_name": "Python 3"
    }
  },
  "cells": [
    {
      "cell_type": "markdown",
      "metadata": {
        "id": "view-in-github",
        "colab_type": "text"
      },
      "source": [
        "<a href=\"https://colab.research.google.com/github/m7moud27/mahmoud-reda/blob/master/test_N_N1.ipynb\" target=\"_parent\"><img src=\"https://colab.research.google.com/assets/colab-badge.svg\" alt=\"Open In Colab\"/></a>"
      ]
    },
    {
      "cell_type": "code",
      "metadata": {
        "id": "Z8FxZhBj1rJN",
        "colab_type": "code",
        "colab": {}
      },
      "source": [
        "import pandas as pd\n",
        "import numpy as np\n",
        "import tensorflow as tf"
      ],
      "execution_count": 0,
      "outputs": []
    },
    {
      "cell_type": "code",
      "metadata": {
        "id": "9MVsROYH2uL2",
        "colab_type": "code",
        "colab": {}
      },
      "source": [
        "n_nodes_hl1 = 500\n",
        "n_nodes_hl2 = 500\n",
        "n_nodes_hl3 = 500\n",
        "\n",
        "n_classes = 10\n",
        "batch_size = 100\n",
        "#width x hight\n",
        "X = tf.placeholder('float',[None,784])\n",
        "y = tf.placeholder('float')"
      ],
      "execution_count": 0,
      "outputs": []
    },
    {
      "cell_type": "code",
      "metadata": {
        "id": "d_ga1Hd98TFX",
        "colab_type": "code",
        "colab": {
          "base_uri": "https://localhost:8080/",
          "height": 129
        },
        "outputId": "455cd681-5e89-42fa-f926-afac8e8c5a01"
      },
      "source": [
        "def Nural_network(data):\n",
        "\n",
        "  hidden_1_layer = {'weights' : tf.variable( tf.random_normal([784,n_nodes_hl1])),\n",
        "                    'biases' : tf.variable(tf.random_normal([n_nodes_hl1])) }\n",
        "      \n",
        "  hidden_2_layer = {'wights' : tf.variable(tf.random_normal([n_nodes_hl1 , n_nodes_hl2])),\n",
        "                    'biases' : tf.variable(tf.random_normal([n_nodes_hl2]))}\n",
        "\n",
        "  hidden_3_layer = {'wights' : tf.variable(tf.random_normal([n_nodes_hl2 , n_nodes_hl3])),\n",
        "                    'biases' : tf.variable(tf.random_normal([n_nodes_hl3]))}\n",
        "  \n",
        "  output_layer = {'wights' : tf.variable(tf.random_normal([n_nodes_hl3, n_classes])),\n",
        "                    'biases' : tf.variable(tf.random_normal([n_classes ]))}\n",
        "\n",
        "    #input_data * weights +biases\n",
        "\n",
        "    l1 = tf.add(tf.matmul(data, hidden_1_layer['weights']) + hidden_1_layer['biases'])\n",
        "    l1 = tf.nn.relu(l1)\n",
        "    l2 = tf.add(tf.matmul(l1, hidden_2_layer['weights'])+ hidden_2_layer['biases'])\n",
        "    l2 = tf.nn.relu(l2)\n",
        "\n",
        "    l3 = tf.add(tf.matmul(l2, hidden_3_layer['weights'])+ hidden_3_layer['biases'])\n",
        "    l3 = tf.nn.relu(l3)\n",
        "\n",
        "    l_out = tf.add(tf.matmul(l3, output_layer['weights'])+ output_layer['biases'])\n",
        "\n",
        "    return l_out\n",
        "\n",
        "\n",
        "\n"
      ],
      "execution_count": 14,
      "outputs": [
        {
          "output_type": "error",
          "ename": "IndentationError",
          "evalue": "ignored",
          "traceback": [
            "\u001b[0;36m  File \u001b[0;32m\"<ipython-input-14-b206d929f796>\"\u001b[0;36m, line \u001b[0;32m17\u001b[0m\n\u001b[0;31m    l1 = tf.add(tf.matmul(data, hidden_1_layer['weights']) + hidden_1_layer['biases'])\u001b[0m\n\u001b[0m    ^\u001b[0m\n\u001b[0;31mIndentationError\u001b[0m\u001b[0;31m:\u001b[0m unexpected indent\n"
          ]
        }
      ]
    },
    {
      "cell_type": "code",
      "metadata": {
        "id": "2zGSHwOZDvSa",
        "colab_type": "code",
        "colab": {}
      },
      "source": [
        "def train_neural_network(X):\n",
        "  prediction = Nural_network(X)\n",
        "  cost = tf.reduce_mean(tf.nn.sparse_softmax_cross_entropy_with_logits(prediction, y))\n",
        "  \n",
        "   #AadmOptimizer is learning rate = 0.001\n",
        "  optimizer = tf.train.AdamOptimizer().minimize(cost)\n",
        "  \n",
        "  # cycles feed forword + back prpogetion\n",
        "  hm_epochs = 10\n",
        "  \n",
        "  with tf.Session() as sess:\n",
        "    sess.run(tf.initialize_all_variables())\n",
        "    for epoch in range(hm_epochs):\n",
        "      epoch_loss = 0\n",
        "      for _ in range(int(minst.train.num_examples/batch_size)):\n",
        "        X, y = minst.train.next_batch(batch_size)\n",
        "        _,c = sess.run([optimizer, cost], feed_dict = {X: x, y:y})\n",
        "          epoch_loss += c\n",
        "      print('epoch', epoch, 'copmplet out of ', hm_epochs,'loss',epoch_loss)\n",
        "    \n",
        "    correct = tf.equal(tf.argmax(prediction, 1), tf.argmax(y, 1))\n",
        "    accuracy = tf.reduce_mean(tf.cast(correct,'float'))\n",
        "    "
      ],
      "execution_count": 0,
      "outputs": []
    }
  ]
}