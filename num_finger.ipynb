{
  "nbformat": 4,
  "nbformat_minor": 0,
  "metadata": {
    "colab": {
      "name": "num.finger",
      "provenance": [],
      "toc_visible": true,
      "mount_file_id": "1VXuJUNUXT-Zz3ubYJX1Ts_OL-Y-L0Qnf",
      "authorship_tag": "ABX9TyNVRup03InogED/m36YAk5n",
      "include_colab_link": true
    },
    "kernelspec": {
      "name": "python3",
      "display_name": "Python 3"
    },
    "accelerator": "GPU"
  },
  "cells": [
    {
      "cell_type": "markdown",
      "metadata": {
        "id": "view-in-github",
        "colab_type": "text"
      },
      "source": [
        "<a href=\"https://colab.research.google.com/github/m7moud27/mahmoud-reda/blob/master/num_finger.ipynb\" target=\"_parent\"><img src=\"https://colab.research.google.com/assets/colab-badge.svg\" alt=\"Open In Colab\"/></a>"
      ]
    },
    {
      "cell_type": "code",
      "metadata": {
        "id": "SD0Hvq6iortd",
        "colab_type": "code",
        "outputId": "276d4a22-06eb-41b1-8b0b-a46a7d6e2ee5",
        "colab": {
          "base_uri": "https://localhost:8080/",
          "height": 70
        }
      },
      "source": [
        "from google.colab import drive\n",
        "drive.mount('/gdrive')\n",
        "%cd / gdrive\n"
      ],
      "execution_count": 6,
      "outputs": [
        {
          "output_type": "stream",
          "text": [
            "Drive already mounted at /gdrive; to attempt to forcibly remount, call drive.mount(\"/gdrive\", force_remount=True).\n",
            "[Errno 2] No such file or directory: '/ gdrive'\n",
            "/content\n"
          ],
          "name": "stdout"
        }
      ]
    },
    {
      "cell_type": "code",
      "metadata": {
        "id": "QxYcr-RxdU-L",
        "colab_type": "code",
        "colab": {}
      },
      "source": [
        "import numpy as np\n",
        "import matplotlib.pyplot as plt\n",
        "import os\n",
        "import cv2\n",
        "from tqdm import tqdm\n",
        "import tensorflow as tf\n",
        "from tensorflow.keras.datasets import cifar10\n",
        "from tensorflow.keras.preprocessing.image import ImageDataGenerator\n",
        "from tensorflow.keras.models import Sequential\n",
        "from tensorflow.keras.layers import Dense, Dropout, Flatten, Activation, MaxPool2D, Conv2D\n",
        "from tensorflow.keras.callbacks import TensorBoard\n",
        "import pickle\n",
        "import time\n",
        "\n"
      ],
      "execution_count": 0,
      "outputs": []
    },
    {
      "cell_type": "code",
      "metadata": {
        "id": "j4V94iT8pNIB",
        "colab_type": "code",
        "outputId": "0afa5c39-b0d3-47d8-dd48-46c728b275d0",
        "colab": {
          "base_uri": "https://localhost:8080/",
          "height": 267
        }
      },
      "source": [
        "DATADIR = r'/gdrive/My Drive/num'\n",
        "CATEGORIES = ['0', '1', '2','3', '4', '5',\"6\",\"7\",'8','9']\n",
        "\n",
        "for category in CATEGORIES:  \n",
        "    path = os.path.join(DATADIR,category)  \n",
        "    for img in os.listdir(path):  \n",
        "        img_array = cv2.imread(os.path.join(path,img) ,cv2.IMREAD_GRAYSCALE)  \n",
        "        plt.imshow(img_array, cmap='gray')  \n",
        "        plt.show()  \n",
        "\n",
        "        break   \n",
        "    break  "
      ],
      "execution_count": 8,
      "outputs": [
        {
          "output_type": "display_data",
          "data": {
            "image/png": "[encoded data removed]",
            "text/plain": [
              "<Figure size 432x288 with 1 Axes>"
            ]
          },
          "metadata": {
            "tags": []
          }
        }
      ]
    },
    {
      "cell_type": "code",
      "metadata": {
        "id": "68NjCzhNYmQG",
        "colab_type": "code",
        "outputId": "c4a76868-1afa-4a88-e80e-931a1d30a0d5",
        "colab": {
          "base_uri": "https://localhost:8080/",
          "height": 141
        }
      },
      "source": [
        "print(img_array)\n"
      ],
      "execution_count": 9,
      "outputs": [
        {
          "output_type": "stream",
          "text": [
            "[[180 181 183 ... 168 167 166]\n",
            " [180 182 183 ... 173 169 167]\n",
            " [180 182 183 ... 175 170 166]\n",
            " ...\n",
            " [155 156 157 ...  87  85  85]\n",
            " [154 156 156 ...  88  86  84]\n",
            " [154 155 155 ...  89  86  84]]\n"
          ],
          "name": "stdout"
        }
      ]
    },
    {
      "cell_type": "code",
      "metadata": {
        "id": "936fRzvvYpDc",
        "colab_type": "code",
        "outputId": "9c47e098-0be1-4ffa-d3fa-7af48f0ad667",
        "colab": {
          "base_uri": "https://localhost:8080/",
          "height": 34
        }
      },
      "source": [
        "print(img_array.shape)"
      ],
      "execution_count": 10,
      "outputs": [
        {
          "output_type": "stream",
          "text": [
            "(100, 100)\n"
          ],
          "name": "stdout"
        }
      ]
    },
    {
      "cell_type": "code",
      "metadata": {
        "id": "0fhDxg07YxIt",
        "colab_type": "code",
        "outputId": "62a1f446-6027-4422-e860-a2da0f1d8b98",
        "colab": {
          "base_uri": "https://localhost:8080/",
          "height": 266
        }
      },
      "source": [
        "IMG_SIZE = 50\n",
        "\n",
        "new_array = cv2.resize(img_array, (IMG_SIZE, IMG_SIZE))\n",
        "plt.imshow(new_array, cmap='gray')\n",
        "plt.show()"
      ],
      "execution_count": 31,
      "outputs": [
        {
          "output_type": "display_data",
          "data": {
            "image/png": "[encoded data removed]",
            "text/plain": [
              "<Figure size 432x288 with 1 Axes>"
            ]
          },
          "metadata": {
            "tags": []
          }
        }
      ]
    },
    {
      "cell_type": "code",
      "metadata": {
        "id": "of9aggmxY9QA",
        "colab_type": "code",
        "outputId": "085d01c2-665b-427c-a6c5-3beacb1ab2f9",
        "colab": {
          "base_uri": "https://localhost:8080/",
          "height": 212
        }
      },
      "source": [
        "training_data = []\n",
        "\n",
        "def create_training_data():\n",
        "    for category in CATEGORIES:  \n",
        "\n",
        "        path = os.path.join(DATADIR,category)  \n",
        "        class_num = CATEGORIES.index(category) \n",
        "\n",
        "        for img in tqdm(os.listdir(path)):  \n",
        "            try:\n",
        "                img_array = cv2.imread(os.path.join(path,img) ,cv2.IMREAD_GRAYSCALE)  \n",
        "                new_array = cv2.resize(img_array, (IMG_SIZE, IMG_SIZE))  \n",
        "                training_data.append([new_array, class_num])  \n",
        "            except Exception as e:  \n",
        "                pass\n",
        "            except OSError as e:\n",
        "                print(\"OSErrroBad img most likely\", e, os.path.join(path,img))\n",
        "            except Exception as e:\n",
        "                print(\"general exception\", e, os.path.join(path,img))\n",
        "\n",
        "create_training_data()\n",
        "\n",
        "print(len(training_data))"
      ],
      "execution_count": 32,
      "outputs": [
        {
          "output_type": "stream",
          "text": [
            "100%|██████████| 205/205 [00:00<00:00, 529.18it/s]\n",
            "100%|██████████| 206/206 [00:00<00:00, 525.02it/s]\n",
            "100%|██████████| 206/206 [00:00<00:00, 549.00it/s]\n",
            "100%|██████████| 206/206 [00:00<00:00, 503.84it/s]\n",
            "100%|██████████| 207/207 [00:00<00:00, 459.33it/s]\n",
            "100%|██████████| 207/207 [00:00<00:00, 492.56it/s]\n",
            "100%|██████████| 207/207 [00:00<00:00, 440.32it/s]\n",
            "100%|██████████| 206/206 [00:00<00:00, 302.09it/s]\n",
            "100%|██████████| 208/208 [00:00<00:00, 537.53it/s]\n",
            "100%|██████████| 204/204 [00:00<00:00, 488.21it/s]"
          ],
          "name": "stderr"
        },
        {
          "output_type": "stream",
          "text": [
            "2062\n"
          ],
          "name": "stdout"
        },
        {
          "output_type": "stream",
          "text": [
            "\n"
          ],
          "name": "stderr"
        }
      ]
    },
    {
      "cell_type": "code",
      "metadata": {
        "id": "4WQS3ikdqk1i",
        "colab_type": "code",
        "colab": {
          "base_uri": "https://localhost:8080/",
          "height": 194
        },
        "outputId": "0f804181-3ee1-433b-fe6f-3daf775d9086"
      },
      "source": [
        "import random\n",
        "random.shuffle(training_data)\n",
        "\n",
        "for sample in training_data[:10]:\n",
        "    print(sample[1])"
      ],
      "execution_count": 33,
      "outputs": [
        {
          "output_type": "stream",
          "text": [
            "9\n",
            "2\n",
            "6\n",
            "3\n",
            "0\n",
            "0\n",
            "2\n",
            "8\n",
            "1\n",
            "3\n"
          ],
          "name": "stdout"
        }
      ]
    },
    {
      "cell_type": "code",
      "metadata": {
        "id": "CAUANAQ8q_N5",
        "colab_type": "code",
        "colab": {
          "base_uri": "https://localhost:8080/",
          "height": 887
        },
        "outputId": "a9405f2b-d69e-4fed-d982-ff09cd22c2f6"
      },
      "source": [
        "\n",
        "X = []\n",
        "y = []\n",
        "\n",
        "for features,label in training_data:\n",
        "    X.append(features)\n",
        "    y.append(label)\n",
        "\n",
        "print(X[0].reshape(-1, IMG_SIZE, IMG_SIZE, 1))\n",
        "\n",
        "X = np.array(X).reshape(-1, IMG_SIZE, IMG_SIZE, 1)"
      ],
      "execution_count": 34,
      "outputs": [
        {
          "output_type": "stream",
          "text": [
            "[[[[133]\n",
            "   [135]\n",
            "   [138]\n",
            "   ...\n",
            "   [134]\n",
            "   [130]\n",
            "   [127]]\n",
            "\n",
            "  [[134]\n",
            "   [138]\n",
            "   [141]\n",
            "   ...\n",
            "   [136]\n",
            "   [133]\n",
            "   [129]]\n",
            "\n",
            "  [[137]\n",
            "   [141]\n",
            "   [146]\n",
            "   ...\n",
            "   [138]\n",
            "   [135]\n",
            "   [131]]\n",
            "\n",
            "  ...\n",
            "\n",
            "  [[121]\n",
            "   [123]\n",
            "   [126]\n",
            "   ...\n",
            "   [117]\n",
            "   [115]\n",
            "   [113]]\n",
            "\n",
            "  [[118]\n",
            "   [122]\n",
            "   [124]\n",
            "   ...\n",
            "   [114]\n",
            "   [112]\n",
            "   [111]]\n",
            "\n",
            "  [[116]\n",
            "   [120]\n",
            "   [122]\n",
            "   ...\n",
            "   [110]\n",
            "   [110]\n",
            "   [109]]]]\n"
          ],
          "name": "stdout"
        }
      ]
    },
    {
      "cell_type": "code",
      "metadata": {
        "id": "MZvMi_QJrGMx",
        "colab_type": "code",
        "colab": {}
      },
      "source": [
        "import pickle\n",
        "\n",
        "pickle_out = open(\"X.pickle\",\"wb\")\n",
        "pickle.dump(X, pickle_out)\n",
        "pickle_out.close()\n",
        "\n",
        "pickle_out = open(\"y.pickle\",\"wb\")\n",
        "pickle.dump(y, pickle_out)\n",
        "pickle_out.close()\n",
        "\n",
        "pickle_in = open(\"X.pickle\",\"rb\")\n",
        "X = pickle.load(pickle_in)\n",
        "X = X/255.0\n",
        "\n",
        "pickle_in = open(\"y.pickle\",\"rb\")\n",
        "y = pickle.load(pickle_in)"
      ],
      "execution_count": 0,
      "outputs": []
    },
    {
      "cell_type": "code",
      "metadata": {
        "id": "zFLx_lxA3Sxq",
        "colab_type": "code",
        "colab": {
          "base_uri": "https://localhost:8080/",
          "height": 1000
        },
        "outputId": "1dc86520-5b01-49c9-d063-12ca9535ee8d"
      },
      "source": [
        "for dense_layer in dense_layers:\n",
        "    for layer_size in layer_sizes:\n",
        "        for conv_layer in conv_layers:\n",
        "            NAME = \"{}-conv-{}-nodes-{}-dense-{}\".format(conv_layer, layer_size, dense_layer, int(time.time()))\n",
        "            print(NAME)\n",
        "\n",
        "            model = Sequential()\n",
        "\n",
        "            model.add(Conv2D(layer_size, (3, 3), input_shape=X.shape[1:]))\n",
        "            model.add(Activation('relu'))\n",
        "            model.add(MaxPool2D(pool_size=(2, 2)))\n",
        "\n",
        "            for l in range(conv_layer-1):\n",
        "                model.add(Conv2D(layer_size, (3, 3)))\n",
        "                model.add(Activation('relu'))\n",
        "                model.add(MaxPool2D(pool_size=(2, 2)))\n",
        "\n",
        "            model.add(Flatten())\n",
        "\n",
        "            for _ in range(dense_layer):\n",
        "                model.add(Dense(layer_size))\n",
        "                model.add(Activation('relu'))\n",
        "\n",
        "            model.add(Dense(1))\n",
        "            model.add(Activation('sigmoid'))\n",
        "\n",
        "            tensorboard = TensorBoard(log_dir=\"logs/{}\".format(NAME))\n",
        "\n",
        "            model.compile(loss='binary_crossentropy',\n",
        "                          optimizer='adam',\n",
        "                          metrics=['accuracy'],\n",
        "                          )\n",
        "\n",
        "            model.fit(X, y,\n",
        "                      batch_size=10,\n",
        "                      epochs=3,\n",
        "                      validation_split=0.3,\n",
        "                      callbacks=[tensorboard])\n",
        "model.save('num_finger.model')\n"
      ],
      "execution_count": 51,
      "outputs": [
        {
          "output_type": "stream",
          "text": [
            "1-conv-32-nodes-0-dense-1582073313\n",
            "Train on 1443 samples, validate on 619 samples\n",
            "Epoch 1/3\n",
            "1443/1443 [==============================] - 2s 1ms/sample - loss: -4017.7927 - acc: 0.0998 - val_loss: -14867.1784 - val_acc: 0.0969\n",
            "Epoch 2/3\n",
            "1443/1443 [==============================] - 1s 480us/sample - loss: -36500.3207 - acc: 0.1012 - val_loss: -71528.4930 - val_acc: 0.0969\n",
            "Epoch 3/3\n",
            "1443/1443 [==============================] - 1s 491us/sample - loss: -108678.2729 - acc: 0.1012 - val_loss: -170070.1049 - val_acc: 0.0969\n",
            "2-conv-32-nodes-0-dense-1582073320\n",
            "Train on 1443 samples, validate on 619 samples\n",
            "Epoch 1/3\n",
            "1443/1443 [==============================] - 2s 1ms/sample - loss: -23421.9008 - acc: 0.1012 - val_loss: -127002.5909 - val_acc: 0.0969\n",
            "Epoch 2/3\n",
            "1443/1443 [==============================] - 1s 533us/sample - loss: -595849.4406 - acc: 0.1012 - val_loss: -1531364.9259 - val_acc: 0.0969\n",
            "Epoch 3/3\n",
            "1443/1443 [==============================] - 1s 557us/sample - loss: -3102850.7551 - acc: 0.1012 - val_loss: -5829830.5444 - val_acc: 0.0969\n",
            "3-conv-32-nodes-0-dense-1582073326\n",
            "Train on 1443 samples, validate on 619 samples\n",
            "Epoch 1/3\n",
            "1443/1443 [==============================] - 2s 1ms/sample - loss: -74338.4917 - acc: 0.0998 - val_loss: -521323.9016 - val_acc: 0.0969\n",
            "Epoch 2/3\n",
            "1443/1443 [==============================] - 1s 588us/sample - loss: -4806304.0423 - acc: 0.1012 - val_loss: -16009290.3974 - val_acc: 0.0969\n",
            "Epoch 3/3\n",
            "1443/1443 [==============================] - 1s 610us/sample - loss: -45733977.4331 - acc: 0.1012 - val_loss: -101395912.9693 - val_acc: 0.0969\n",
            "1-conv-64-nodes-0-dense-1582073333\n",
            "Train on 1443 samples, validate on 619 samples\n",
            "Epoch 1/3\n",
            "1443/1443 [==============================] - 2s 1ms/sample - loss: -8937.2422 - acc: 0.1019 - val_loss: -33291.1932 - val_acc: 0.0969\n",
            "Epoch 2/3\n",
            "1443/1443 [==============================] - 1s 520us/sample - loss: -80825.5924 - acc: 0.1012 - val_loss: -159284.9805 - val_acc: 0.0969\n",
            "Epoch 3/3\n",
            "1443/1443 [==============================] - 1s 532us/sample - loss: -240754.8945 - acc: 0.1012 - val_loss: -377158.7123 - val_acc: 0.0969\n",
            "2-conv-64-nodes-0-dense-1582073340\n",
            "Train on 1443 samples, validate on 619 samples\n",
            "Epoch 1/3\n",
            "1443/1443 [==============================] - 2s 1ms/sample - loss: -99734.5234 - acc: 0.1012 - val_loss: -541326.7929 - val_acc: 0.0969\n",
            "Epoch 2/3\n",
            "1443/1443 [==============================] - 1s 585us/sample - loss: -2509807.4615 - acc: 0.1012 - val_loss: -6488247.2686 - val_acc: 0.0969\n",
            "Epoch 3/3\n",
            "1443/1443 [==============================] - 1s 583us/sample - loss: -13221941.3379 - acc: 0.1012 - val_loss: -24739737.0468 - val_acc: 0.0969\n",
            "3-conv-64-nodes-0-dense-1582073347\n",
            "Train on 1443 samples, validate on 619 samples\n",
            "Epoch 1/3\n",
            "1443/1443 [==============================] - 2s 1ms/sample - loss: -653781.8138 - acc: 0.1012 - val_loss: -4630871.0121 - val_acc: 0.0969\n",
            "Epoch 2/3\n",
            "1443/1443 [==============================] - 1s 697us/sample - loss: -44614609.5236 - acc: 0.1012 - val_loss: -143048580.4588 - val_acc: 0.0969\n",
            "Epoch 3/3\n",
            "1443/1443 [==============================] - 1s 620us/sample - loss: -408462192.2772 - acc: 0.1012 - val_loss: -900212943.6123 - val_acc: 0.0969\n",
            "1-conv-128-nodes-0-dense-1582073354\n",
            "Train on 1443 samples, validate on 619 samples\n",
            "Epoch 1/3\n",
            "1443/1443 [==============================] - 2s 1ms/sample - loss: -17208.7008 - acc: 0.1012 - val_loss: -63829.3548 - val_acc: 0.0969\n",
            "Epoch 2/3\n",
            "1443/1443 [==============================] - 1s 569us/sample - loss: -153172.1751 - acc: 0.1012 - val_loss: -299637.9285 - val_acc: 0.0969\n",
            "Epoch 3/3\n",
            "1443/1443 [==============================] - 1s 579us/sample - loss: -458907.2354 - acc: 0.1012 - val_loss: -722269.4939 - val_acc: 0.0969\n",
            "2-conv-128-nodes-0-dense-1582073361\n",
            "Train on 1443 samples, validate on 619 samples\n",
            "Epoch 1/3\n",
            "1443/1443 [==============================] - 2s 2ms/sample - loss: -446471.2045 - acc: 0.1019 - val_loss: -2383172.2415 - val_acc: 0.0969\n",
            "Epoch 2/3\n",
            "1443/1443 [==============================] - 1s 698us/sample - loss: -10976687.1095 - acc: 0.1012 - val_loss: -28110366.1971 - val_acc: 0.0969\n",
            "Epoch 3/3\n",
            "1443/1443 [==============================] - 1s 696us/sample - loss: -57777160.6833 - acc: 0.1012 - val_loss: -108344588.3166 - val_acc: 0.0969\n",
            "3-conv-128-nodes-0-dense-1582073370\n",
            "Train on 1443 samples, validate on 619 samples\n",
            "Epoch 1/3\n",
            "1443/1443 [==============================] - 2s 2ms/sample - loss: -5912337.6405 - acc: 0.1019 - val_loss: -41581233.8805 - val_acc: 0.0969\n",
            "Epoch 2/3\n",
            "1443/1443 [==============================] - 1s 719us/sample - loss: -382668192.9938 - acc: 0.1012 - val_loss: -1235072378.3134 - val_acc: 0.0969\n",
            "Epoch 3/3\n",
            "1443/1443 [==============================] - 1s 698us/sample - loss: -3468703722.6667 - acc: 0.1012 - val_loss: -7770698354.9725 - val_acc: 0.0969\n",
            "1-conv-32-nodes-1-dense-1582073378\n",
            "Train on 1443 samples, validate on 619 samples\n",
            "Epoch 1/3\n",
            "1443/1443 [==============================] - 2s 1ms/sample - loss: -17928.0242 - acc: 0.1019 - val_loss: -85454.2588 - val_acc: 0.0969\n",
            "Epoch 2/3\n",
            "1443/1443 [==============================] - 1s 544us/sample - loss: -346478.3634 - acc: 0.1012 - val_loss: -853925.2455 - val_acc: 0.0969\n",
            "Epoch 3/3\n",
            "1443/1443 [==============================] - 1s 544us/sample - loss: -1680601.3251 - acc: 0.1012 - val_loss: -3098314.7819 - val_acc: 0.0969\n",
            "2-conv-32-nodes-1-dense-1582073385\n",
            "Train on 1443 samples, validate on 619 samples\n",
            "Epoch 1/3\n",
            "1443/1443 [==============================] - 2s 2ms/sample - loss: -138643.5850 - acc: 0.1012 - val_loss: -843615.0387 - val_acc: 0.0969\n",
            "Epoch 2/3\n",
            "1443/1443 [==============================] - 1s 649us/sample - loss: -6659851.6246 - acc: 0.1012 - val_loss: -20046914.7787 - val_acc: 0.0969\n",
            "Epoch 3/3\n",
            "1443/1443 [==============================] - 1s 636us/sample - loss: -52448906.1947 - acc: 0.1012 - val_loss: -112239011.8772 - val_acc: 0.0969\n",
            "3-conv-32-nodes-1-dense-1582073394\n",
            "Train on 1443 samples, validate on 619 samples\n",
            "Epoch 1/3\n",
            "1443/1443 [==============================] - 2s 2ms/sample - loss: -378716.4523 - acc: 0.1012 - val_loss: -2859947.4358 - val_acc: 0.0969\n",
            "Epoch 2/3\n",
            "1443/1443 [==============================] - 1s 700us/sample - loss: -48970789.4955 - acc: 0.1012 - val_loss: -192632691.7997 - val_acc: 0.0969\n",
            "Epoch 3/3\n",
            "1443/1443 [==============================] - 1s 682us/sample - loss: -780921177.3915 - acc: 0.1012 - val_loss: -2059057706.5977 - val_acc: 0.0969\n",
            "1-conv-64-nodes-1-dense-1582073402\n",
            "Train on 1443 samples, validate on 619 samples\n",
            "Epoch 1/3\n",
            "1443/1443 [==============================] - 2s 2ms/sample - loss: -73675.4974 - acc: 0.1040 - val_loss: -361426.5912 - val_acc: 0.0969\n",
            "Epoch 2/3\n",
            "1443/1443 [==============================] - 1s 635us/sample - loss: -1442783.8368 - acc: 0.1012 - val_loss: -3570502.9697 - val_acc: 0.0969\n",
            "Epoch 3/3\n",
            "1443/1443 [==============================] - 1s 628us/sample - loss: -7008417.2164 - acc: 0.1012 - val_loss: -12961353.0630 - val_acc: 0.0969\n",
            "2-conv-64-nodes-1-dense-1582073411\n",
            "Train on 1443 samples, validate on 619 samples\n",
            "Epoch 1/3\n",
            "1443/1443 [==============================] - 2s 2ms/sample - loss: -1311294.3160 - acc: 0.1012 - val_loss: -8085440.5388 - val_acc: 0.0969\n",
            "Epoch 2/3\n",
            "1443/1443 [==============================] - 1s 642us/sample - loss: -61515991.8288 - acc: 0.1012 - val_loss: -192855438.6559 - val_acc: 0.0969\n",
            "Epoch 3/3\n",
            "1443/1443 [==============================] - 1s 652us/sample - loss: -527785369.9459 - acc: 0.1012 - val_loss: -1157281980.0711 - val_acc: 0.0969\n",
            "3-conv-64-nodes-1-dense-1582073419\n",
            "Train on 1443 samples, validate on 619 samples\n",
            "Epoch 1/3\n",
            "1443/1443 [==============================] - 2s 2ms/sample - loss: -17495453.0662 - acc: 0.1012 - val_loss: -142292328.4782 - val_acc: 0.0969\n",
            "Epoch 2/3\n",
            "1443/1443 [==============================] - 1s 685us/sample - loss: -2503687673.9238 - acc: 0.1012 - val_loss: -9943800721.1632 - val_acc: 0.0969\n",
            "Epoch 3/3\n",
            "1443/1443 [==============================] - 1s 679us/sample - loss: -39100792901.5440 - acc: 0.1012 - val_loss: -102751685021.5703 - val_acc: 0.0969\n",
            "1-conv-128-nodes-1-dense-1582073428\n",
            "Train on 1443 samples, validate on 619 samples\n",
            "Epoch 1/3\n",
            "1443/1443 [==============================] - 3s 2ms/sample - loss: -320376.4501 - acc: 0.1012 - val_loss: -1492741.4950 - val_acc: 0.0969\n",
            "Epoch 2/3\n",
            "1443/1443 [==============================] - 1s 793us/sample - loss: -5804808.9636 - acc: 0.1012 - val_loss: -14276096.3425 - val_acc: 0.0969\n",
            "Epoch 3/3\n",
            "1443/1443 [==============================] - 1s 794us/sample - loss: -28274122.7588 - acc: 0.1012 - val_loss: -52574686.0226 - val_acc: 0.0969\n",
            "2-conv-128-nodes-1-dense-1582073438\n",
            "Train on 1443 samples, validate on 619 samples\n",
            "Epoch 1/3\n",
            "1443/1443 [==============================] - 3s 2ms/sample - loss: -8096568.3055 - acc: 0.1005 - val_loss: -54070782.5105 - val_acc: 0.0969\n",
            "Epoch 2/3\n",
            "1443/1443 [==============================] - 1s 722us/sample - loss: -439875070.4366 - acc: 0.1012 - val_loss: -1389487010.5331 - val_acc: 0.0969\n",
            "Epoch 3/3\n",
            "1443/1443 [==============================] - 1s 711us/sample - loss: -3761507169.2197 - acc: 0.1012 - val_loss: -8290628167.9612 - val_acc: 0.0969\n",
            "3-conv-128-nodes-1-dense-1582073447\n",
            "Train on 1443 samples, validate on 619 samples\n",
            "Epoch 1/3\n",
            "1443/1443 [==============================] - 3s 2ms/sample - loss: -132028750.1110 - acc: 0.1012 - val_loss: -1145328748.1486 - val_acc: 0.0969\n",
            "Epoch 2/3\n",
            "1443/1443 [==============================] - 1s 726us/sample - loss: -20166931912.6486 - acc: 0.1012 - val_loss: -81886413223.4960 - val_acc: 0.0969\n",
            "Epoch 3/3\n",
            "1443/1443 [==============================] - 1s 750us/sample - loss: -338835282015.0908 - acc: 0.1012 - val_loss: -889933279013.6349 - val_acc: 0.0969\n",
            "1-conv-32-nodes-2-dense-1582073456\n",
            "Train on 1443 samples, validate on 619 samples\n",
            "Epoch 1/3\n",
            "1443/1443 [==============================] - 2s 2ms/sample - loss: -61767.8839 - acc: 0.1012 - val_loss: -384250.2546 - val_acc: 0.0969\n",
            "Epoch 2/3\n",
            "1443/1443 [==============================] - 1s 604us/sample - loss: -2756077.1701 - acc: 0.1012 - val_loss: -8654173.9952 - val_acc: 0.0969\n",
            "Epoch 3/3\n",
            "1443/1443 [==============================] - 1s 656us/sample - loss: -23778187.2956 - acc: 0.1012 - val_loss: -52510738.5073 - val_acc: 0.0969\n",
            "2-conv-32-nodes-2-dense-1582073465\n",
            "Train on 1443 samples, validate on 619 samples\n",
            "Epoch 1/3\n",
            "1443/1443 [==============================] - 2s 2ms/sample - loss: -389196.9872 - acc: 0.0998 - val_loss: -3227767.4830 - val_acc: 0.0969\n",
            "Epoch 2/3\n",
            "1443/1443 [==============================] - 1s 719us/sample - loss: -52313351.9830 - acc: 0.1012 - val_loss: -198761853.1567 - val_acc: 0.0969\n",
            "Epoch 3/3\n",
            "1443/1443 [==============================] - 1s 634us/sample - loss: -770001454.2481 - acc: 0.1012 - val_loss: -1978791450.8821 - val_acc: 0.0969\n",
            "3-conv-32-nodes-2-dense-1582073474\n",
            "Train on 1443 samples, validate on 619 samples\n",
            "Epoch 1/3\n",
            "1443/1443 [==============================] - 3s 2ms/sample - loss: -1304486.4964 - acc: 0.1012 - val_loss: -12320162.6284 - val_acc: 0.0969\n",
            "Epoch 2/3\n",
            "1443/1443 [==============================] - 1s 700us/sample - loss: -410888097.5648 - acc: 0.1012 - val_loss: -1865086328.9693 - val_acc: 0.0969\n",
            "Epoch 3/3\n",
            "1443/1443 [==============================] - 1s 754us/sample - loss: -10832687999.0243 - acc: 0.1012 - val_loss: -31621972305.4733 - val_acc: 0.0969\n",
            "1-conv-64-nodes-2-dense-1582073484\n",
            "Train on 1443 samples, validate on 619 samples\n",
            "Epoch 1/3\n",
            "1443/1443 [==============================] - 3s 2ms/sample - loss: -388803.0559 - acc: 0.1012 - val_loss: -2501588.9275 - val_acc: 0.0969\n",
            "Epoch 2/3\n",
            "1443/1443 [==============================] - 1s 660us/sample - loss: -18859913.5308 - acc: 0.1012 - val_loss: -58242668.1034 - val_acc: 0.0969\n",
            "Epoch 3/3\n",
            "1443/1443 [==============================] - 1s 685us/sample - loss: -154711843.9307 - acc: 0.1012 - val_loss: -337287677.0016 - val_acc: 0.0969\n",
            "2-conv-64-nodes-2-dense-1582073494\n",
            "Train on 1443 samples, validate on 619 samples\n",
            "Epoch 1/3\n",
            "1443/1443 [==============================] - 3s 2ms/sample - loss: -3637778.5836 - acc: 0.1012 - val_loss: -28895126.1195 - val_acc: 0.0969\n",
            "Epoch 2/3\n",
            "1443/1443 [==============================] - 1s 690us/sample - loss: -459401285.2918 - acc: 0.1012 - val_loss: -1787990893.8029 - val_acc: 0.0969\n",
            "Epoch 3/3\n",
            "1443/1443 [==============================] - 1s 702us/sample - loss: -6858108405.5329 - acc: 0.1012 - val_loss: -17630867956.4200 - val_acc: 0.0969\n",
            "3-conv-64-nodes-2-dense-1582073503\n",
            "Train on 1443 samples, validate on 619 samples\n",
            "Epoch 1/3\n",
            "1443/1443 [==============================] - 3s 2ms/sample - loss: -44936123.6075 - acc: 0.1012 - val_loss: -435852133.9968 - val_acc: 0.0969\n",
            "Epoch 2/3\n",
            "1443/1443 [==============================] - 1s 743us/sample - loss: -18043598612.3132 - acc: 0.1012 - val_loss: -83348289942.9532 - val_acc: 0.0969\n",
            "Epoch 3/3\n",
            "1443/1443 [==============================] - 1s 732us/sample - loss: -475815851386.2343 - acc: 0.1012 - val_loss: -1435679049771.0112 - val_acc: 0.0969\n",
            "1-conv-128-nodes-2-dense-1582073513\n",
            "Train on 1443 samples, validate on 619 samples\n",
            "Epoch 1/3\n",
            "1443/1443 [==============================] - 3s 2ms/sample - loss: -1627132.8791 - acc: 0.1019 - val_loss: -11271363.0436 - val_acc: 0.0969\n",
            "Epoch 2/3\n",
            "1443/1443 [==============================] - 1s 858us/sample - loss: -99883691.9536 - acc: 0.1012 - val_loss: -317273744.8530 - val_acc: 0.0969\n",
            "Epoch 3/3\n",
            "1443/1443 [==============================] - 1s 862us/sample - loss: -891350962.2952 - acc: 0.1012 - val_loss: -1989547970.5848 - val_acc: 0.0969\n",
            "2-conv-128-nodes-2-dense-1582073524\n",
            "Train on 1443 samples, validate on 619 samples\n",
            "Epoch 1/3\n",
            "1443/1443 [==============================] - 3s 2ms/sample - loss: -79907683.8498 - acc: 0.1012 - val_loss: -666021728.4136 - val_acc: 0.0969\n",
            "Epoch 2/3\n",
            "1443/1443 [==============================] - 1s 831us/sample - loss: -11812798136.4158 - acc: 0.1012 - val_loss: -45704522393.0210 - val_acc: 0.0969\n",
            "Epoch 3/3\n",
            "1443/1443 [==============================] - 1s 763us/sample - loss: -177946201728.7983 - acc: 0.1012 - val_loss: -465273936371.5930 - val_acc: 0.0969\n",
            "3-conv-128-nodes-2-dense-1582073535\n",
            "Train on 1443 samples, validate on 619 samples\n",
            "Epoch 1/3\n",
            "1443/1443 [==============================] - 3s 2ms/sample - loss: -945845288.2797 - acc: 0.1019 - val_loss: -9909638329.2795 - val_acc: 0.0969\n",
            "Epoch 2/3\n",
            "1443/1443 [==============================] - 1s 881us/sample - loss: -430236483202.2176 - acc: 0.1012 - val_loss: -2002240486391.7285 - val_acc: 0.0969\n",
            "Epoch 3/3\n",
            "1443/1443 [==============================] - 1s 786us/sample - loss: -12053487440783.1680 - acc: 0.1012 - val_loss: -36157154142555.3984 - val_acc: 0.0969\n"
          ],
          "name": "stdout"
        }
      ]
    },
    {
      "cell_type": "code",
      "metadata": {
        "id": "PpQCJNUF5V94",
        "colab_type": "code",
        "colab": {
          "base_uri": "https://localhost:8080/",
          "height": 317
        },
        "outputId": "20e3f3cd-b6c0-4be0-e57b-2ec0b823f94a"
      },
      "source": [
        "filepath='/content/IMG_1119.JPG'\n",
        "def prepare(filepath):\n",
        "    IMG_SIZE = 50 # 50 in txt-based\n",
        "    img_array = cv2.imread(filepath, cv2.IMREAD_GRAYSCALE)\n",
        "    new_array = cv2.resize(img_array, (IMG_SIZE, IMG_SIZE))\n",
        "    return new_array.reshape(-1, IMG_SIZE, IMG_SIZE, 1)\n",
        "\n",
        "\n",
        "model = tf.keras.models.load_model('num_finger.model')\n",
        "\n",
        "prediction = model.predict([prepare(filepath)])\n",
        "print(prediction)  # will be a list in a list.\n",
        "print(CATEGORIES[int(prediction[0][0])])\n",
        "plt.imshow(prediction)\n",
        "plt.show"
      ],
      "execution_count": 66,
      "outputs": [
        {
          "output_type": "stream",
          "text": [
            "[[1.]]\n",
            "1\n"
          ],
          "name": "stdout"
        },
        {
          "output_type": "execute_result",
          "data": {
            "text/plain": [
              "<function matplotlib.pyplot.show>"
            ]
          },
          "metadata": {
            "tags": []
          },
          "execution_count": 66
        },
        {
          "output_type": "display_data",
          "data": {
            "image/png": "[encoded data removed]",
            "text/plain": [
              "<Figure size 432x288 with 1 Axes>"
            ]
          },
          "metadata": {
            "tags": []
          }
        }
      ]
    }
  ]
}