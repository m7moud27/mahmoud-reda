{
  "nbformat": 4,
  "nbformat_minor": 0,
  "metadata": {
    "colab": {
      "name": "test1.ipynb",
      "provenance": [],
      "include_colab_link": true
    },
    "kernelspec": {
      "name": "python3",
      "display_name": "Python 3"
    }
  },
  "cells": [
    {
      "cell_type": "markdown",
      "metadata": {
        "id": "view-in-github",
        "colab_type": "text"
      },
      "source": [
        "<a href=\"https://colab.research.google.com/github/m7moud27/mahmoud-reda/blob/master/test%20N_N1.ipynb\" target=\"_parent\"><img src=\"https://colab.research.google.com/assets/colab-badge.svg\" alt=\"Open In Colab\"/></a>"
      ]
    },
    {
      "cell_type": "code",
      "metadata": {
        "id": "Z8FxZhBj1rJN",
        "colab_type": "code",
        "colab": {}
      },
      "source": [
        "import pandas as pd\n",
        "import numpy as np\n",
        "import tensorflow as tf"
      ],
      "execution_count": 0,
      "outputs": []
    },
    {
      "cell_type": "code",
      "metadata": {
        "id": "9MVsROYH2uL2",
        "colab_type": "code",
        "colab": {}
      },
      "source": [
        "n_nodes_hl1 = 500\n",
        "n_nodes_hl2 = 500\n",
        "n_nodes_hl3 = 500\n",
        "\n",
        "n_classes = 10\n",
        "batch_size = 100\n",
        "#width x hight\n",
        "X = tf.placeholder('flot',[None,784])\n",
        "y = tf.placeholder('flot')"
      ],
      "execution_count": 0,
      "outputs": []
    },
    {
      "cell_type": "code",
      "metadata": {
        "id": "d_ga1Hd98TFX",
        "colab_type": "code",
        "colab": {}
      },
      "source": [
        "def Nural_network(data):\n",
        "\n",
        "  hidden_1_layer = {'weights' : tf.variable( tf.random_normal([784,n_nodes_hl1])),\n",
        "                    'biases' : tf.variable(tf.random_normal(n_nodes_hl1)) }\n",
        "      \n",
        "  hidden_2_layer = {'wights' : tf.variable(tf.random_normal([n_nodes_hl1 , n_nodes_hl2])),\n",
        "                    'biases' : tf.variable(tf.random_normal(n_nodes_hl2))}\n",
        "\n",
        "  hidden_3_layer = {'wights' : tf.variable(tf.random_normal([n_nodes_hl2 , n_nodes_hl3])),\n",
        "                    'biases' : tf.variable(tf.random_normal(n_nodes_hl3))}\n",
        "  \n",
        "  output_layer = {'wights' : tf.variable(tf.random_normal([n_nodes_hl3, n_classes])),\n",
        "                    'biases' : tf.variable(tf.random_normal(n_classes ))}\n",
        "\n",
        "    #input_data * weights +biases\n",
        "\n",
        "    l1 = tf.add(tf.matmul(data, hidden_1_layer[weights])+ hidden_1_layer[biases])\n",
        "    l1 = tf.nn.relu(l1)\n",
        "    l2 = tf.add(tf.matmul(l1, hidden_2_layer[weights])+ hidden_2_layer[biases])\n",
        "    l2 = tf.nn.relu(l2)\n",
        "\n",
        "    l3 = tf.add(tf.matmul(l2, hidden_3_layer[weights])+ hidden_3_layer[biases])\n",
        "    l3 = tf.nn.relu(l3)\n",
        "\n",
        "    l_out = tf.add(tf.matmul(l3, output_layer[weights])+ output_layer[biases])\n",
        "\n",
        "    return l_out\n",
        "\n",
        "\n",
        "\n"
      ],
      "execution_count": 0,
      "outputs": []
    }
  ]
}