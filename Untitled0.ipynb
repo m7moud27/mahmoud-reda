{
  "nbformat": 4,
  "nbformat_minor": 0,
  "metadata": {
    "colab": {
      "name": "Untitled0.ipynb",
      "provenance": [],
      "authorship_tag": "ABX9TyNL9e6A7v1pQYcQLgw9SE6Q",
      "include_colab_link": true
    },
    "kernelspec": {
      "name": "python3",
      "display_name": "Python 3"
    }
  },
  "cells": [
    {
      "cell_type": "markdown",
      "metadata": {
        "id": "view-in-github",
        "colab_type": "text"
      },
      "source": [
        "<a href=\"https://colab.research.google.com/github/m7moud27/mahmoud-reda/blob/master/Untitled0.ipynb\" target=\"_parent\"><img src=\"https://colab.research.google.com/assets/colab-badge.svg\" alt=\"Open In Colab\"/></a>"
      ]
    },
    {
      "cell_type": "code",
      "metadata": {
        "id": "QbR08z6XB0nz",
        "colab_type": "code",
        "colab": {}
      },
      "source": [
        "import tensorflow as tf\n",
        "from tensorflow.examples.tutorials.mnist import input_data"
      ],
      "execution_count": 0,
      "outputs": []
    },
    {
      "cell_type": "code",
      "metadata": {
        "id": "6BG2luBtEmG2",
        "colab_type": "code",
        "colab": {
          "base_uri": "https://localhost:8080/",
          "height": 85
        },
        "outputId": "290c6bcb-45b6-4efd-d8b9-cf12e8bb28c5"
      },
      "source": [
        "mnist = input_data.read_data_sets('MNIST.data', one_hot = True)\n",
        "\n",
        "X = tf.placeholder('float',[None, 784])\n",
        "y = tf.placeholder('float')\n",
        "\n",
        "n_class = 10\n",
        "batch_size = 100"
      ],
      "execution_count": 42,
      "outputs": [
        {
          "output_type": "stream",
          "text": [
            "Extracting MNIST.data/train-images-idx3-ubyte.gz\n",
            "Extracting MNIST.data/train-labels-idx1-ubyte.gz\n",
            "Extracting MNIST.data/t10k-images-idx3-ubyte.gz\n",
            "Extracting MNIST.data/t10k-labels-idx1-ubyte.gz\n"
          ],
          "name": "stdout"
        }
      ]
    },
    {
      "cell_type": "code",
      "metadata": {
        "id": "US7utn1rFPXu",
        "colab_type": "code",
        "colab": {}
      },
      "source": [
        "def conv2d(X, w ):\n",
        "    return tf.nn.conv2d(X, w, strides = [1, 1, 1, 1], padding = 'SAME')"
      ],
      "execution_count": 0,
      "outputs": []
    },
    {
      "cell_type": "code",
      "metadata": {
        "id": "LlDj3cz-FchN",
        "colab_type": "code",
        "colab": {}
      },
      "source": [
        "def maxpool2d(X):\n",
        "    return tf.nn.max_pool(X, kstrides = [1, 2, 2, 1], strides = [1, 2, 2, 1],\n",
        "                          padding = 'SAME')"
      ],
      "execution_count": 0,
      "outputs": []
    },
    {
      "cell_type": "code",
      "metadata": {
        "id": "L5dhUQUhFjQ8",
        "colab_type": "code",
        "colab": {}
      },
      "source": [
        "def convolutional_neural_network(data):\n",
        "\n",
        "    weights = {'wconv1': tf.Variable(tf.random.normal([5, 5, 1, 32])),\n",
        "               'wconv2': tf.Variable(tf.random.normal([5, 5, 32, 64])),\n",
        "               'wfc': tf.Variable(tf.random.normal([3136, 1024])),\n",
        "               'woutput': tf.Variable(tf.random.noral([1024, n_class]))}\n",
        "\n",
        "    baises = {'bconv1': tf.Variable(tf.random.normal([32])),\n",
        "               'bconv2': tf.Variable(tf.random.normal([64])),\n",
        "               'bfc': tf.Variable(tf.random.normal([1024])),\n",
        "               'boutput': tf.Variable(tf.random.normal([n_class]))}\n",
        "\n",
        "    X = tf.reshape(X, shape[-1, 28, 28, 1])\n",
        "\n",
        "    conv1 = conv2d(X, weights['wconv1'])\n",
        "    conv1 = maxpool2d(conv1)\n",
        "\n",
        "    conv2 = conv2d(conv1, weights['wconv2'])\n",
        "    conv2 = maxpool2d(conv2)\n",
        "\n",
        "    fc = tf.reshape(conv3, [-1, 7*7*128])\n",
        "    fc = tf.nn.relu(tf.matul(fc, weights['wfc']+baises['bfc']))\n",
        "\n",
        "    output = tf.matul(fc, weights['woutput']+baises['boutput'])\n",
        "\n",
        "    return (output)\n"
      ],
      "execution_count": 0,
      "outputs": []
    },
    {
      "cell_type": "code",
      "metadata": {
        "id": "W62jQWfAFpYg",
        "colab_type": "code",
        "colab": {
          "base_uri": "https://localhost:8080/",
          "height": 129
        },
        "outputId": "88b32603-e053-49e3-e2d4-7bc83d363e32"
      },
      "source": [
        "def train_CNN(X):\n",
        "\n",
        "    prediction = convolutional_neural_network(X)\n",
        "    cost = tf.reduce_mean(tf.nn.softmax_cross_entropy_with_logits (prediction, y))\n",
        "    optimizer = tf.train.AdamOPptimizer().minimize(cost)\n",
        "    n_epochs = 10\n",
        "    with tf.session() as sess:\n",
        "        sess.run(tf.initialize_all_Variables())\n",
        "        for epoch in range(n_epochs):\n",
        "            epoch_loss = 0\n",
        "            for _ in range(int(mnist.train.examples/batch_size)):\n",
        "              epoch_X, epoch_y = mnist.train.next_batch(batch_size)\n",
        "              _, c = sess.run([optimizer, cost], feed_dict = {X:epoch_X,\n",
        "                                                            y:epoch_y})\n",
        "              epoch_loss+= c\n",
        "              print('epoch',epoch, 'completed out ', n_epochs, 'loss:', epoch_loss)\n",
        "        correct =  tf.equal(tf.argmax(prediction, 1), tf.argmax(y, 1))\n",
        "        accuracy = tf.reduce_mean(tf.cast(correct,'float'))\n",
        "        print('Accuracy = ', accuracy.eval({X:minst.test.images, y: minst.test.images})\n",
        "        \n",
        "train_CNN(X)\n"
      ],
      "execution_count": 46,
      "outputs": [
        {
          "output_type": "error",
          "ename": "SyntaxError",
          "evalue": "ignored",
          "traceback": [
            "\u001b[0;36m  File \u001b[0;32m\"<ipython-input-46-c75221162ee9>\"\u001b[0;36m, line \u001b[0;32m21\u001b[0m\n\u001b[0;31m    train_CNN(X)\u001b[0m\n\u001b[0m            ^\u001b[0m\n\u001b[0;31mSyntaxError\u001b[0m\u001b[0;31m:\u001b[0m invalid syntax\n"
          ]
        }
      ]
    },
    {
      "cell_type": "code",
      "metadata": {
        "id": "cdqVx6aSHcR0",
        "colab_type": "code",
        "colab": {}
      },
      "source": [
        ""
      ],
      "execution_count": 0,
      "outputs": []
    }
  ]
}