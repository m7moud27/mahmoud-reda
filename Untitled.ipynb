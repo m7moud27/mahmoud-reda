{
  "nbformat": 4,
  "nbformat_minor": 0,
  "metadata": {
    "colab": {
      "name": "Untitled",
      "provenance": [],
      "toc_visible": true,
      "mount_file_id": "1VXuJUNUXT-Zz3ubYJX1Ts_OL-Y-L0Qnf",
      "authorship_tag": "ABX9TyPot9In1LFSmx8A38ImQzs9",
      "include_colab_link": true
    },
    "kernelspec": {
      "name": "python3",
      "display_name": "Python 3"
    },
    "accelerator": "GPU"
  },
  "cells": [
    {
      "cell_type": "markdown",
      "metadata": {
        "id": "view-in-github",
        "colab_type": "text"
      },
      "source": [
        "<a href=\"https://colab.research.google.com/github/m7moud27/mahmoud-reda/blob/master/Untitled.ipynb\" target=\"_parent\"><img src=\"https://colab.research.google.com/assets/colab-badge.svg\" alt=\"Open In Colab\"/></a>"
      ]
    },
    {
      "cell_type": "code",
      "metadata": {
        "id": "SD0Hvq6iortd",
        "colab_type": "code",
        "colab": {
          "base_uri": "https://localhost:8080/",
          "height": 207
        },
        "outputId": "8421ceb3-3031-4c15-f7f0-635f08f10624"
      },
      "source": [
        "import numpy as np\n",
        "import matplotlib.pyplot as plt\n",
        "import os\n",
        "import cv2\n",
        "from tqdm import tqdm\n",
        "from google.colab import drive\n",
        "\n",
        "drive.mount('/gdrive')\n",
        "%cd/ gdeive\n"
      ],
      "execution_count": 3,
      "outputs": [
        {
          "output_type": "stream",
          "text": [
            "Go to this URL in a browser: https://accounts.google.com/o/oauth2/auth?client_id=947318989803-6bn6qk8qdgf4n4g3pfee6491hc0brc4i.apps.googleusercontent.com&redirect_uri=urn%3aietf%3awg%3aoauth%3a2.0%3aoob&response_type=code&scope=email%20https%3a%2f%2fwww.googleapis.com%2fauth%2fdocs.test%20https%3a%2f%2fwww.googleapis.com%2fauth%2fdrive%20https%3a%2f%2fwww.googleapis.com%2fauth%2fdrive.photos.readonly%20https%3a%2f%2fwww.googleapis.com%2fauth%2fpeopleapi.readonly\n",
            "\n",
            "Enter your authorization code:\n",
            "··········\n",
            "Mounted at /gdrive\n",
            "[Errno 2] No such file or directory: '/ gdeive'\n",
            "/content\n",
            "Drive already mounted at /gdrive; to attempt to forcibly remount, call drive.mount(\"/gdrive\", force_remount=True).\n",
            "[Errno 2] No such file or directory: '/ gdeive'\n",
            "/content\n"
          ],
          "name": "stdout"
        }
      ]
    },
    {
      "cell_type": "code",
      "metadata": {
        "id": "j4V94iT8pNIB",
        "colab_type": "code",
        "outputId": "99549828-4833-4cb0-a3cc-bbd8ace4e7ae",
        "colab": {
          "base_uri": "https://localhost:8080/",
          "height": 268
        }
      },
      "source": [
        "DATADIR = r'/gdrive/My Drive/Dataset'\n",
        "CATEGORIES = ['0', '1', '2','3', '4', '5',\"6\",\"7\",'8','9']\n",
        "\n",
        "for category in CATEGORIES:  # do dogs and cats\n",
        "    path = os.path.join(DATADIR,category)  # create path to dogs and cats\n",
        "    for img in os.listdir(path):  # iterate over each image per dogs and cats\n",
        "        img_array = cv2.imread(os.path.join(path,img) ,cv2.IMREAD_GRAYSCALE)  # convert to array\n",
        "        plt.imshow(img_array, cmap='gray')  # graph it\n",
        "        plt.show()  # display!\n",
        "\n",
        "        break  # we just want one for now so break\n",
        "    break  #...and one more!"
      ],
      "execution_count": 4,
      "outputs": [
        {
          "output_type": "display_data",
          "data": {
            "image/png": "[encoded data removed]",
            "text/plain": [
              "<Figure size 432x288 with 1 Axes>"
            ]
          },
          "metadata": {
            "tags": []
          }
        }
      ]
    },
    {
      "cell_type": "code",
      "metadata": {
        "id": "68NjCzhNYmQG",
        "colab_type": "code",
        "colab": {
          "base_uri": "https://localhost:8080/",
          "height": 136
        },
        "outputId": "77d53c00-2a74-4f78-fe60-d33adf27df8e"
      },
      "source": [
        "print(img_array)\n"
      ],
      "execution_count": 5,
      "outputs": [
        {
          "output_type": "stream",
          "text": [
            "[[180 181 183 ... 168 167 166]\n",
            " [180 182 183 ... 173 169 167]\n",
            " [180 182 183 ... 175 170 166]\n",
            " ...\n",
            " [155 156 157 ...  87  85  85]\n",
            " [154 156 156 ...  88  86  84]\n",
            " [154 155 155 ...  89  86  84]]\n"
          ],
          "name": "stdout"
        }
      ]
    },
    {
      "cell_type": "code",
      "metadata": {
        "id": "936fRzvvYpDc",
        "colab_type": "code",
        "colab": {
          "base_uri": "https://localhost:8080/",
          "height": 34
        },
        "outputId": "e1a966f9-8830-4920-9997-9910fd5707b1"
      },
      "source": [
        "print(img_array.shape)"
      ],
      "execution_count": 6,
      "outputs": [
        {
          "output_type": "stream",
          "text": [
            "(100, 100)\n"
          ],
          "name": "stdout"
        }
      ]
    },
    {
      "cell_type": "code",
      "metadata": {
        "id": "0fhDxg07YxIt",
        "colab_type": "code",
        "colab": {
          "base_uri": "https://localhost:8080/",
          "height": 267
        },
        "outputId": "cef09c94-4693-4750-b0a8-4a92012009a6"
      },
      "source": [
        "IMG_SIZE = 50\n",
        "\n",
        "new_array = cv2.resize(img_array, (IMG_SIZE, IMG_SIZE))\n",
        "plt.imshow(new_array, cmap='gray')\n",
        "plt.show()"
      ],
      "execution_count": 7,
      "outputs": [
        {
          "output_type": "display_data",
          "data": {
            "image/png": "[encoded data removed]",
            "text/plain": [
              "<Figure size 432x288 with 1 Axes>"
            ]
          },
          "metadata": {
            "tags": []
          }
        }
      ]
    },
    {
      "cell_type": "code",
      "metadata": {
        "id": "XpReskesYzmT",
        "colab_type": "code",
        "colab": {
          "base_uri": "https://localhost:8080/",
          "height": 267
        },
        "outputId": "c9a10715-5700-4c47-9698-f6825ad195b8"
      },
      "source": [
        "new_array = cv2.resize(img_array, (IMG_SIZE, IMG_SIZE))\n",
        "plt.imshow(new_array, cmap='gray')\n",
        "plt.show()"
      ],
      "execution_count": 8,
      "outputs": [
        {
          "output_type": "display_data",
          "data": {
            "image/png": "[encoded data removed]",
            "text/plain": [
              "<Figure size 432x288 with 1 Axes>"
            ]
          },
          "metadata": {
            "tags": []
          }
        }
      ]
    },
    {
      "cell_type": "code",
      "metadata": {
        "id": "of9aggmxY9QA",
        "colab_type": "code",
        "colab": {
          "base_uri": "https://localhost:8080/",
          "height": 204
        },
        "outputId": "9c0fb34a-8a94-440c-f5ab-0a9b89f51ea4"
      },
      "source": [
        "training_data = []\n",
        "\n",
        "def create_training_data():\n",
        "    for category in CATEGORIES:  # do dogs and cats\n",
        "\n",
        "        path = os.path.join(DATADIR,category)  # create path to dogs and cats\n",
        "        class_num = CATEGORIES.index(category)  # get the classification  (0 or a 1). 0=dog 1=cat\n",
        "\n",
        "        for img in tqdm(os.listdir(path)):  # iterate over each image per dogs and cats\n",
        "            try:\n",
        "                img_array = cv2.imread(os.path.join(path,img) ,cv2.IMREAD_GRAYSCALE)  # convert to array\n",
        "                new_array = cv2.resize(img_array, (IMG_SIZE, IMG_SIZE))  # resize to normalize data size\n",
        "                training_data.append([new_array, class_num])  # add this to our training_data\n",
        "            except Exception as e:  # in the interest in keeping the output clean...\n",
        "                pass\n",
        "            except OSError as e:\n",
        "                print(\"OSErrroBad img most likely\", e, os.path.join(path,img))\n",
        "            except Exception as e:\n",
        "                print(\"general exception\", e, os.path.join(path,img))\n",
        "\n",
        "create_training_data()\n",
        "\n",
        "print(len(training_data))"
      ],
      "execution_count": 9,
      "outputs": [
        {
          "output_type": "stream",
          "text": [
            "100%|██████████| 205/205 [01:04<00:00,  3.66it/s]\n",
            "100%|██████████| 206/206 [01:14<00:00,  1.02it/s]\n",
            "100%|██████████| 206/206 [01:11<00:00,  1.23it/s]\n",
            "100%|██████████| 206/206 [01:10<00:00,  2.68it/s]\n",
            "100%|██████████| 207/207 [00:58<00:00,  3.62it/s]\n",
            "100%|██████████| 207/207 [01:14<00:00,  2.37it/s]\n",
            "100%|██████████| 207/207 [01:05<00:00,  4.10it/s]\n",
            "100%|██████████| 206/206 [00:55<00:00,  1.12it/s]\n",
            "100%|██████████| 208/208 [00:56<00:00,  3.65it/s]\n",
            "100%|██████████| 204/204 [01:04<00:00,  4.01it/s]"
          ],
          "name": "stderr"
        },
        {
          "output_type": "stream",
          "text": [
            "2062\n"
          ],
          "name": "stdout"
        },
        {
          "output_type": "stream",
          "text": [
            "\n"
          ],
          "name": "stderr"
        }
      ]
    },
    {
      "cell_type": "code",
      "metadata": {
        "id": "4WQS3ikdqk1i",
        "colab_type": "code",
        "colab": {
          "base_uri": "https://localhost:8080/",
          "height": 187
        },
        "outputId": "a96e1cee-ae7d-4fac-e48f-54e305e32442"
      },
      "source": [
        "import random\n",
        "random.shuffle(training_data)\n",
        "\n",
        "for sample in training_data[:10]:\n",
        "    print(sample[1])"
      ],
      "execution_count": 11,
      "outputs": [
        {
          "output_type": "stream",
          "text": [
            "5\n",
            "6\n",
            "7\n",
            "8\n",
            "7\n",
            "3\n",
            "4\n",
            "9\n",
            "0\n",
            "5\n"
          ],
          "name": "stdout"
        }
      ]
    },
    {
      "cell_type": "code",
      "metadata": {
        "id": "CAUANAQ8q_N5",
        "colab_type": "code",
        "colab": {
          "base_uri": "https://localhost:8080/",
          "height": 850
        },
        "outputId": "a7adad3c-dcac-4c68-951b-3546ca0dabf0"
      },
      "source": [
        "\n",
        "X = []\n",
        "y = []\n",
        "\n",
        "for features,label in training_data:\n",
        "    X.append(features)\n",
        "    y.append(label)\n",
        "\n",
        "print(X[0].reshape(-1, IMG_SIZE, IMG_SIZE, 1))\n",
        "\n",
        "X = np.array(X).reshape(-1, IMG_SIZE, IMG_SIZE, 1)"
      ],
      "execution_count": 12,
      "outputs": [
        {
          "output_type": "stream",
          "text": [
            "[[[[127]\n",
            "   [130]\n",
            "   [130]\n",
            "   ...\n",
            "   [124]\n",
            "   [121]\n",
            "   [120]]\n",
            "\n",
            "  [[129]\n",
            "   [132]\n",
            "   [135]\n",
            "   ...\n",
            "   [125]\n",
            "   [123]\n",
            "   [122]]\n",
            "\n",
            "  [[132]\n",
            "   [135]\n",
            "   [138]\n",
            "   ...\n",
            "   [128]\n",
            "   [126]\n",
            "   [124]]\n",
            "\n",
            "  ...\n",
            "\n",
            "  [[114]\n",
            "   [117]\n",
            "   [119]\n",
            "   ...\n",
            "   [114]\n",
            "   [112]\n",
            "   [110]]\n",
            "\n",
            "  [[111]\n",
            "   [114]\n",
            "   [115]\n",
            "   ...\n",
            "   [112]\n",
            "   [110]\n",
            "   [108]]\n",
            "\n",
            "  [[108]\n",
            "   [111]\n",
            "   [113]\n",
            "   ...\n",
            "   [110]\n",
            "   [108]\n",
            "   [107]]]]\n"
          ],
          "name": "stdout"
        }
      ]
    },
    {
      "cell_type": "code",
      "metadata": {
        "id": "MZvMi_QJrGMx",
        "colab_type": "code",
        "colab": {}
      },
      "source": [
        "import pickle\n",
        "\n",
        "pickle_out = open(\"X.pickle\",\"wb\")\n",
        "pickle.dump(X, pickle_out)\n",
        "pickle_out.close()\n",
        "\n",
        "pickle_out = open(\"y.pickle\",\"wb\")\n",
        "pickle.dump(y, pickle_out)\n",
        "pickle_out.close()\n",
        "\n",
        "pickle_in = open(\"X.pickle\",\"rb\")\n",
        "X = pickle.load(pickle_in)\n",
        "\n",
        "pickle_in = open(\"y.pickle\",\"rb\")\n",
        "y = pickle.load(pickle_in)"
      ],
      "execution_count": 0,
      "outputs": []
    }
  ]
}